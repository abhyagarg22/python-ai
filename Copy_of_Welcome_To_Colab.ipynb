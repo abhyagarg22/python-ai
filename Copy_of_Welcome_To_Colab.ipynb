{
  "cells": [
    {
      "cell_type": "markdown",
      "metadata": {
        "id": "view-in-github",
        "colab_type": "text"
      },
      "source": [
        "<a href=\"https://colab.research.google.com/github/abhyagarg22/python-ai/blob/main/Copy_of_Welcome_To_Colab.ipynb\" target=\"_parent\"><img src=\"https://colab.research.google.com/assets/colab-badge.svg\" alt=\"Open In Colab\"/></a>"
      ]
    },
    {
      "cell_type": "code",
      "source": [
        "a=[[1,2,3],\n",
        "   [4,5,6],\n",
        "   [7,8,9]]\n",
        "print(len(a))\n",
        "print(a[2])"
      ],
      "metadata": {
        "id": "37HN8yNFEAWp",
        "outputId": "5c1f5b6e-2330-4419-b6ed-bab55e2c611e",
        "colab": {
          "base_uri": "https://localhost:8080/"
        }
      },
      "execution_count": null,
      "outputs": [
        {
          "output_type": "stream",
          "name": "stdout",
          "text": [
            "3\n",
            "[7, 8, 9]\n"
          ]
        }
      ]
    },
    {
      "cell_type": "code",
      "source": [
        "def add(a,b):\n",
        "  res=a+b\n",
        "  return (res)\n",
        "#num1=int(input())\n",
        "#num2=int(input())\n",
        "ans =add(2,3)\n",
        "print(ans)"
      ],
      "metadata": {
        "id": "VeKq1wBNE74i",
        "outputId": "48341c1b-3558-4977-a7c8-60fb3accaa0b",
        "colab": {
          "base_uri": "https://localhost:8080/"
        }
      },
      "execution_count": null,
      "outputs": [
        {
          "output_type": "stream",
          "name": "stdout",
          "text": [
            "5\n"
          ]
        }
      ]
    },
    {
      "cell_type": "code",
      "source": [
        "a=[[1,2,3],\n",
        "   [4,5,6],\n",
        "   [7,8,9]]\n",
        "def find_pos(b):\n",
        "  for i in range(len(b)):\n",
        "    for j in range(len(b[i])):\n",
        "      if b[i][j]==5:\n",
        "        return(i,j)\n",
        "ans =find_pos(a)\n",
        "print(ans)"
      ],
      "metadata": {
        "id": "5PqyUwTuGmER",
        "outputId": "5156013a-385e-483d-96c0-7c370022e165",
        "colab": {
          "base_uri": "https://localhost:8080/"
        }
      },
      "execution_count": null,
      "outputs": [
        {
          "output_type": "stream",
          "name": "stdout",
          "text": [
            "(1, 1)\n"
          ]
        }
      ]
    },
    {
      "cell_type": "code",
      "source": [
        "a=[1,2,3]\n",
        "a.append(4)\n",
        "print(a)"
      ],
      "metadata": {
        "id": "7PmTpf0hIzRh",
        "outputId": "870aaf16-e68f-4158-b803-d937ed2cf9d4",
        "colab": {
          "base_uri": "https://localhost:8080/"
        }
      },
      "execution_count": null,
      "outputs": [
        {
          "output_type": "stream",
          "name": "stdout",
          "text": [
            "[1, 2, 3, 4]\n"
          ]
        }
      ]
    },
    {
      "cell_type": "code",
      "source": [
        "def list_even(l):\n",
        "  ls=[]\n",
        "  for i in range(len(l)):\n",
        "    for j in range(len(l[i])):\n",
        "      if l[i][j]%2==0:\n",
        "        ls.append(l[i][j])\n",
        "  return (ls)\n",
        "a=[[1,2,3],\n",
        "   [4,5,6],\n",
        "   [7,8,9]]\n",
        "ans=list_even(a)\n",
        "print(ans)"
      ],
      "metadata": {
        "id": "Rl_iQk6PJmPB",
        "outputId": "f4a9f551-a1b2-4b0b-c869-0d6b92d17a37",
        "colab": {
          "base_uri": "https://localhost:8080/"
        }
      },
      "execution_count": null,
      "outputs": [
        {
          "output_type": "stream",
          "name": "stdout",
          "text": [
            "[2, 4, 6, 8]\n"
          ]
        }
      ]
    },
    {
      "cell_type": "code",
      "source": [
        "#4thassignment 1st ques\n",
        "import copy\n",
        "\n",
        "def find_pos(s):\n",
        "  for i in range(len(s)):\n",
        "    for j in range(len(s[0])):\n",
        "      if s[i][j]==0:\n",
        "        return[i,j]\n",
        "def up(s):\n",
        "  pos =find_pos(s)\n",
        "  row=pos[0]\n",
        "  col=pos[1]\n",
        "  temp=copy.deepcopy(s)\n",
        "  if row>0:\n",
        "    temp[row][col]=temp[row-1][col]\n",
        "    temp[row-1][col]=0\n",
        "  return (temp)\n",
        "def down(s):\n",
        "  pos =find_pos(s)\n",
        "  row=pos[0]\n",
        "  col=pos[1]\n",
        "  temp=copy.deepcopy(s)\n",
        "  if row<len(s)-1:\n",
        "    temp[row][col]=temp[row+1][col]\n",
        "    temp[row+1][col]=0\n",
        "  return (temp)\n",
        "def left(s):\n",
        "  pos =find_pos(s)\n",
        "  row=pos[0]\n",
        "  col=pos[1]\n",
        "  temp=copy.deepcopy(s)\n",
        "  if col>0:\n",
        "    temp[row][col]=temp[row][col-1]\n",
        "    temp[row][col-1]=0\n",
        "  return (temp)\n",
        "def right(s):\n",
        "  pos =find_pos(s)\n",
        "  row=pos[0]\n",
        "  col=pos[1]\n",
        "  temp=copy.deepcopy(s)\n",
        "  if col<len(s[0])-1:\n",
        "    temp[row][col]=temp[row][col+1]\n",
        "    temp[row][col+1]=0\n",
        "  return (temp)\n",
        "def compare(s,g):\n",
        "  for i in range(len(s)):\n",
        "    for j in range(len(s[0])):\n",
        "      if s[i][j]!=g[i][j]:\n",
        "        return 0\n",
        "  if(s==g):\n",
        "    return(1)\n",
        "  else:\n",
        "    return 0\n",
        "def heuristic(s,g):\n",
        "  d=0\n",
        "  for i in range(len(s)):\n",
        "    for j in range(len(s[0])):\n",
        "      if s[i][j]!=g[i][j]:\n",
        "        d+=1\n",
        "  return(d)\n",
        "\n",
        "def search(s,g):\n",
        "  q=[s]\n",
        "  visited=[]\n",
        "  while(1):\n",
        "\n",
        "    if compare(s[1],g[1])==1:\n",
        "      print(\"found\")\n",
        "      print(len(visited))\n",
        "      return\n",
        "    visited.append(s)\n",
        "    s1=up(s[1])\n",
        "    if s1 not in visited and s1 not in q:\n",
        "     q.append([heuristic(s1,g[1]),s1])\n",
        "    s2=down(s[1])\n",
        "    if s2 not in visited and s2 not in q:\n",
        "     q.append([heuristic(s2,g[1]),s2])\n",
        "    s3=left(s[1])\n",
        "    if s3 not in visited and s3 not in q:\n",
        "     q.append([heuristic(s3,g[1]),s3])\n",
        "    s4=right(s[1])\n",
        "    if s4 not in visited and s4 not in q:\n",
        "     q.append([heuristic(s4,g[1]),s4])\n",
        "    if len(q)>0:\n",
        "     q.sort()\n",
        "     s=q[0]\n",
        "     del q[0]\n",
        "    else:\n",
        "      print(\"not found\")\n",
        "      return\n",
        "def main():\n",
        "  s = [[2,0,3],\n",
        "     [1,8,4],\n",
        "     [7,6,5]]\n",
        "  g = [[1,2,3],\n",
        "     [8,0,4],\n",
        "     [7,6,5]]\n",
        "\n",
        "  s=[heuristic(s,g),s]\n",
        "  g=[heuristic(g,g),g]\n",
        "  ans1=compare(s[1],g[1])\n",
        "  ans=heuristic(s[1],g[1])\n",
        "  print(ans)\n",
        "  print(\"----------\")\n",
        "  search(s,g)\n",
        "\n",
        "main()\n",
        "\n"
      ],
      "metadata": {
        "id": "SI5vzYHCOP7y",
        "outputId": "60d544dd-ea4d-4817-ea34-92447055e9ad",
        "colab": {
          "base_uri": "https://localhost:8080/"
        }
      },
      "execution_count": 1,
      "outputs": [
        {
          "output_type": "stream",
          "name": "stdout",
          "text": [
            "4\n",
            "----------\n",
            "found\n",
            "3\n"
          ]
        }
      ]
    },
    {
      "cell_type": "code",
      "source": [
        "import copy\n",
        "cap=[4,3]\n",
        "def fill_1(s):\n",
        "  global cap\n",
        "  temp=copy.deepcopy(s)\n",
        "  temp[0]=cap[0]\n",
        "  return temp\n",
        "def fill_2(s):\n",
        "  global cap\n",
        "  temp=copy.deepcopy(s)\n",
        "  temp[1]=cap[1]\n",
        "  return temp\n",
        "def empty_1(s):\n",
        "  global cap\n",
        "  temp=copy.deepcopy(s)\n",
        "  temp[0]=0\n",
        "  return temp\n",
        "def empty_2(s):\n",
        "  global cap\n",
        "  temp=copy.deepcopy(s)\n",
        "  temp[1]=0\n",
        "  return temp\n",
        "def transfer_1_to_2(s):\n",
        "  temp=copy.deepcopy(s)\n",
        "  temp[0]=temp[0]-min(cap[1]-temp[1],temp[0])\n",
        "  temp[1]=temp[1]+min(cap[1]-temp[1],temp[0])\n",
        "  return temp\n",
        "def transfer_2_to_1(s):\n",
        "  temp=copy.deepcopy(s)\n",
        "  temp[0]=temp[0]+min(cap[0]-temp[0],temp[1])\n",
        "  temp[1]=temp[1]-min(cap[0]-temp[0],temp[1])\n",
        "  return temp\n",
        "def search(initial,goal):\n",
        "  q=[initial]\n",
        "  visited=[]\n",
        "  i=0\n",
        "  while i<len(q):\n",
        "    s=q[i]\n",
        "    i+=1\n",
        "    if compare(s,goal):\n",
        "      print(\"found\",s)\n",
        "      return\n",
        "    if s not in visited:\n",
        "      visited.append(s)\n",
        "      new_state=[fill_1(s),\n",
        "      fill_2(s),\n",
        "      empty_1(s),\n",
        "      empty_2(s),\n",
        "      transfer_1_to_2(s),\n",
        "      transfer_2_to_1(s)]\n",
        "      for ns in new_state:\n",
        "        if ns not in visited and ns not in q:\n",
        "           q.append(ns)\n",
        "  print(\"solution not found\")\n",
        "def compare(s,g):\n",
        "  if s==g:\n",
        "    return 1\n",
        "  else:\n",
        "    return 0\n",
        "search([0,0],[2,0])"
      ],
      "metadata": {
        "id": "VsFvSorWJhsl",
        "colab": {
          "base_uri": "https://localhost:8080/"
        },
        "outputId": "5248e75c-184a-436e-ee9a-ae4e1ff19e77"
      },
      "execution_count": null,
      "outputs": [
        {
          "output_type": "stream",
          "name": "stdout",
          "text": [
            "found [2, 0]\n"
          ]
        }
      ]
    },
    {
      "cell_type": "code",
      "source": [
        "#if condition lagegi kahin pe 4thassignment question2\n",
        "import copy\n",
        "\n",
        "\n",
        "def find_pos(s):\n",
        "  for i in range(len(s)):\n",
        "    for j in range(len(s[0])):\n",
        "      if s[i][j]==0:\n",
        "        return[i,j]\n",
        "def up(s):\n",
        "  pos =find_pos(s)\n",
        "  row=pos[0]\n",
        "  col=pos[1]\n",
        "  temp=copy.deepcopy(s)\n",
        "  if row>0:\n",
        "    temp[row][col]=temp[row-1][col]\n",
        "    temp[row-1][col]=0\n",
        "  return (temp)\n",
        "def down(s):\n",
        "  pos =find_pos(s)\n",
        "  row=pos[0]\n",
        "  col=pos[1]\n",
        "  temp=copy.deepcopy(s)\n",
        "  if row<len(s)-1:\n",
        "    temp[row][col]=temp[row+1][col]\n",
        "    temp[row+1][col]=0\n",
        "  return (temp)\n",
        "def left(s):\n",
        "  pos =find_pos(s)\n",
        "  row=pos[0]\n",
        "  col=pos[1]\n",
        "  temp=copy.deepcopy(s)\n",
        "  if col>0:\n",
        "    temp[row][col]=temp[row][col-1]\n",
        "    temp[row][col-1]=0\n",
        "  return (temp)\n",
        "def right(s):\n",
        "  pos =find_pos(s)\n",
        "  row=pos[0]\n",
        "  col=pos[1]\n",
        "  temp=copy.deepcopy(s)\n",
        "  if col<len(s[0])-1:\n",
        "    temp[row][col]=temp[row][col+1]\n",
        "    temp[row][col+1]=0\n",
        "  return (temp)\n",
        "def compare(s,g):\n",
        "  for i in range(len(s)):\n",
        "    for j in range(len(s[0])):\n",
        "      if s[i][j]!=g[i][j]:\n",
        "        return 0\n",
        "  if(s==g):\n",
        "    return(1)\n",
        "  else:\n",
        "    return 0\n",
        "def heuristic(s,g):\n",
        "  d=0\n",
        "  for i in range(len(s)):\n",
        "    for j in range(len(s[0])):\n",
        "      if s[i][j]!=g[i][j]:\n",
        "        d+=1\n",
        "  return(d)\n",
        "\n",
        "def search(s,g):\n",
        "  q=[s]\n",
        "  visited=[]\n",
        "  while(1):\n",
        "\n",
        "    if compare(s[1],g[1])==1:\n",
        "      print(\"found\")\n",
        "      print(len(visited))\n",
        "      return\n",
        "    visited.append(s)\n",
        "    s1=up(s[1])\n",
        "    if s1 not in visited and s1 not in q:\n",
        "     q.append([heuristic(s1,g[1]),s1])\n",
        "    s2=down(s[1])\n",
        "    if s2 not in visited and s2 not in q:\n",
        "     q.append([heuristic(s2,g[1]),s2])\n",
        "    s3=left(s[1])\n",
        "    if s3 not in visited and s3 not in q:\n",
        "     q.append([heuristic(s3,g[1]),s3])\n",
        "    s4=right(s[1])\n",
        "    if s4 not in visited and s4 not in q:\n",
        "     q.append([heuristic(s4,g[1]),s4])\n",
        "    if len(q)>0:\n",
        "     q.sort()\n",
        "     s=q[0]\n",
        "     del q[0]\n",
        "     q=[]\n",
        "    else:\n",
        "      print(\"not found\")\n",
        "      return\n",
        "def main():\n",
        "  s = [[2,0,3],\n",
        "     [1,8,4],\n",
        "     [7,6,5]]\n",
        "  g = [[1,2,3],\n",
        "     [8,0,4],\n",
        "     [7,6,5]]\n",
        "\n",
        "  s=[heuristic(s,g),s]\n",
        "  g=[heuristic(g,g),g]\n",
        "  ans1=compare(s[1],g[1])\n",
        "  ans=heuristic(s[1],g[1])\n",
        "  print(ans)\n",
        "  print(\"----------\")\n",
        "  search(s,g)\n",
        "\n",
        "main()"
      ],
      "metadata": {
        "id": "ntw3bwhPYpSn",
        "outputId": "bbc1e918-a658-469d-a8cc-8521a7467063",
        "colab": {
          "base_uri": "https://localhost:8080/"
        }
      },
      "execution_count": null,
      "outputs": [
        {
          "output_type": "stream",
          "name": "stdout",
          "text": [
            "4\n",
            "----------\n",
            "found\n",
            "3\n"
          ]
        }
      ]
    },
    {
      "cell_type": "code",
      "source": [
        "import copy\n",
        "def find_pos(s):\n",
        "    for i in range(len(s)):\n",
        "        for j in range(len(s[0])):\n",
        "            if s[i][j] == 0:\n",
        "                return [i, j]\n",
        "\n",
        "def up(s):\n",
        "    pos = find_pos(s)\n",
        "    row = pos[0]\n",
        "    col = pos[1]\n",
        "    if row > 0:\n",
        "        s[row][col], s[row-1][col] = s[row-1][col], s[row][col]\n",
        "    return s\n",
        "\n",
        "def down(s):\n",
        "    pos = find_pos(s)\n",
        "    row = pos[0]\n",
        "    col = pos[1]\n",
        "    if row < len(s) - 1:\n",
        "        s[row][col], s[row+1][col] = s[row+1][col], s[row][col]\n",
        "    return s\n",
        "\n",
        "def left(s):\n",
        "    pos = find_pos(s)\n",
        "    row = pos[0]\n",
        "    col = pos[1]\n",
        "    if col > 0:\n",
        "        s[row][col], s[row][col-1] = s[row][col-1], s[row][col]\n",
        "    return s\n",
        "\n",
        "def right(s):\n",
        "    pos = find_pos(s)\n",
        "    row = pos[0]\n",
        "    col = pos[1]\n",
        "    if col < len(s[0]) - 1:\n",
        "        s[row][col], s[row][col+1] = s[row][col+1], s[row][col]\n",
        "    return s\n",
        "\n",
        "def compare(s, g):\n",
        "    return s == g\n",
        "\n",
        "def heuristic(s, g):\n",
        "    d = 0\n",
        "    for i in range(len(s)):\n",
        "        for j in range(len(s[0])):\n",
        "            if s[i][j] != g[i][j] and s[i][j] != 0:\n",
        "                d += 1\n",
        "    return d\n",
        "\n",
        "def search(s, g):\n",
        "    current = s\n",
        "    while True:\n",
        "        neighbors = []\n",
        "        for move in [up, down, left, right]:\n",
        "            new_state = [row[:] for row in current[1]]\n",
        "            new_state = move(new_state)\n",
        "            if new_state != current[1]:\n",
        "                neighbors.append([heuristic(new_state, g[1]), new_state])\n",
        "\n",
        "        neighbors.sort()\n",
        "        best_neighbor = neighbors[0]\n",
        "\n",
        "        if best_neighbor[0] >= current[0]:\n",
        "            print(\"Found\" if compare(current[1], g[1]) else \"Not Found\")\n",
        "            return\n",
        "\n",
        "        current = best_neighbor\n",
        "\n",
        "def main():\n",
        "    s = [[2, 8, 3], [1, 5, 4], [7, 6, 0]]\n",
        "    g = [[1, 2, 3], [8, 0, 4], [7, 6, 5]]\n",
        "    s = [heuristic(s, g), s]\n",
        "    g = [heuristic(g, g), g]\n",
        "    search(s, g)\n",
        "\n",
        "main()"
      ],
      "metadata": {
        "id": "4ojgfh5IXWak",
        "outputId": "d72a5c7f-796c-4223-eb9e-b451a7b34a62",
        "colab": {
          "base_uri": "https://localhost:8080/"
        }
      },
      "execution_count": 3,
      "outputs": [
        {
          "output_type": "stream",
          "name": "stdout",
          "text": [
            "Not Found\n"
          ]
        }
      ]
    }
  ],
  "metadata": {
    "colab": {
      "toc_visible": true,
      "provenance": [],
      "include_colab_link": true
    },
    "kernelspec": {
      "display_name": "Python 3",
      "name": "python3"
    }
  },
  "nbformat": 4,
  "nbformat_minor": 0
}