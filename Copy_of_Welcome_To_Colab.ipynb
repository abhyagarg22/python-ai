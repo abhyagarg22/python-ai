{
  "cells": [
    {
      "cell_type": "markdown",
      "metadata": {
        "id": "view-in-github",
        "colab_type": "text"
      },
      "source": [
        "<a href=\"https://colab.research.google.com/github/abhyagarg22/python-ai/blob/main/Copy_of_Welcome_To_Colab.ipynb\" target=\"_parent\"><img src=\"https://colab.research.google.com/assets/colab-badge.svg\" alt=\"Open In Colab\"/></a>"
      ]
    },
    {
      "cell_type": "code",
      "source": [
        "a=[[1,2,3],\n",
        "   [4,5,6],\n",
        "   [7,8,9]]\n",
        "print(len(a))\n",
        "print(a[2])"
      ],
      "metadata": {
        "id": "37HN8yNFEAWp",
        "outputId": "5c1f5b6e-2330-4419-b6ed-bab55e2c611e",
        "colab": {
          "base_uri": "https://localhost:8080/"
        }
      },
      "execution_count": null,
      "outputs": [
        {
          "output_type": "stream",
          "name": "stdout",
          "text": [
            "3\n",
            "[7, 8, 9]\n"
          ]
        }
      ]
    },
    {
      "cell_type": "code",
      "source": [
        "def add(a,b):\n",
        "  res=a+b\n",
        "  return (res)\n",
        "#num1=int(input())\n",
        "#num2=int(input())\n",
        "ans =add(2,3)\n",
        "print(ans)"
      ],
      "metadata": {
        "id": "VeKq1wBNE74i",
        "outputId": "48341c1b-3558-4977-a7c8-60fb3accaa0b",
        "colab": {
          "base_uri": "https://localhost:8080/"
        }
      },
      "execution_count": null,
      "outputs": [
        {
          "output_type": "stream",
          "name": "stdout",
          "text": [
            "5\n"
          ]
        }
      ]
    },
    {
      "cell_type": "code",
      "source": [
        "a=[[1,2,3],\n",
        "   [4,5,6],\n",
        "   [7,8,9]]\n",
        "def find_pos(b):\n",
        "  for i in range(len(b)):\n",
        "    for j in range(len(b[i])):\n",
        "      if b[i][j]==5:\n",
        "        return(i,j)\n",
        "ans =find_pos(a)\n",
        "print(ans)"
      ],
      "metadata": {
        "id": "5PqyUwTuGmER",
        "outputId": "5156013a-385e-483d-96c0-7c370022e165",
        "colab": {
          "base_uri": "https://localhost:8080/"
        }
      },
      "execution_count": null,
      "outputs": [
        {
          "output_type": "stream",
          "name": "stdout",
          "text": [
            "(1, 1)\n"
          ]
        }
      ]
    },
    {
      "cell_type": "code",
      "source": [
        "a=[1,2,3]\n",
        "a.append(4)\n",
        "print(a)"
      ],
      "metadata": {
        "id": "7PmTpf0hIzRh",
        "outputId": "870aaf16-e68f-4158-b803-d937ed2cf9d4",
        "colab": {
          "base_uri": "https://localhost:8080/"
        }
      },
      "execution_count": null,
      "outputs": [
        {
          "output_type": "stream",
          "name": "stdout",
          "text": [
            "[1, 2, 3, 4]\n"
          ]
        }
      ]
    },
    {
      "cell_type": "code",
      "source": [
        "def list_even(l):\n",
        "  ls=[]\n",
        "  for i in range(len(l)):\n",
        "    for j in range(len(l[i])):\n",
        "      if l[i][j]%2==0:\n",
        "        ls.append(l[i][j])\n",
        "  return (ls)\n",
        "a=[[1,2,3],\n",
        "   [4,5,6],\n",
        "   [7,8,9]]\n",
        "ans=list_even(a)\n",
        "print(ans)"
      ],
      "metadata": {
        "id": "Rl_iQk6PJmPB",
        "outputId": "f4a9f551-a1b2-4b0b-c869-0d6b92d17a37",
        "colab": {
          "base_uri": "https://localhost:8080/"
        }
      },
      "execution_count": 3,
      "outputs": [
        {
          "output_type": "stream",
          "name": "stdout",
          "text": [
            "[2, 4, 6, 8]\n"
          ]
        }
      ]
    },
    {
      "cell_type": "code",
      "source": [
        "import copy\n",
        "s = [[1,2,3],\n",
        "     [8,0,4],\n",
        "     [7,6,5]]\n",
        "g = [[2,8,1],\n",
        "     [0,4,3],\n",
        "     [7,6,5]]\n",
        "def find_pos(s):\n",
        "  for i in range(len(s)):\n",
        "    for j in range(len(s[0])):\n",
        "      if s[i][j]==0:\n",
        "        return[i,j]\n",
        "def up(s):\n",
        "  pos =find_pos(s)\n",
        "  row=pos[0]\n",
        "  col=pos[1]\n",
        "  temp=copy.deepcopy(s)\n",
        "  if row>0:\n",
        "    temp[row][col]=temp[row-1][col]\n",
        "    temp[row-1][col]=0\n",
        "  return (temp)\n",
        "def down(s):\n",
        "  pos =find_pos(s)\n",
        "  row=pos[0]\n",
        "  col=pos[1]\n",
        "  temp=copy.deepcopy(s)\n",
        "  if row<len(s)-1:\n",
        "    temp[row][col]=temp[row+1][col]\n",
        "    temp[row+1][col]=0\n",
        "  return (temp)\n",
        "def left(s):\n",
        "  pos =find_pos(s)\n",
        "  row=pos[0]\n",
        "  col=pos[1]\n",
        "  temp=copy.deepcopy(s)\n",
        "  if col>0:\n",
        "    temp[row][col]=temp[row][col-1]\n",
        "    temp[row][col-1]=0\n",
        "  return (temp)\n",
        "def right(s):\n",
        "  pos =find_pos(s)\n",
        "  row=pos[0]\n",
        "  col=pos[1]\n",
        "  temp=copy.deepcopy(s)\n",
        "  if col<len(s[0])-1:\n",
        "    temp[row][col]=temp[row][col+1]\n",
        "    temp[row][col+1]=0\n",
        "  return (temp)\n",
        "def compare(s,g):\n",
        "  for i in range(len(s)):\n",
        "    for j in range(len(s[0])):\n",
        "      if s[i][j]!=g[i][j]:\n",
        "        return 0\n",
        "  if(s==g):\n",
        "    return(1)\n",
        "  else:\n",
        "    return 0\n",
        "\n",
        "def search(s,g):\n",
        "  q=[]\n",
        "  visited=[]\n",
        "  while(1):\n",
        "    if compare(s,g)==1:\n",
        "      print(\"found\")\n",
        "      return\n",
        "      visited.append(s)\n",
        "    s1=up(s)\n",
        "    if s1 not in visited and s1 not in q:\n",
        "     q.append(s1)\n",
        "    s2=down(s)\n",
        "    if s2 not in visited and s2 not in q:\n",
        "     q.append(s2)\n",
        "    s3=left(s)\n",
        "    if s3 not in visited and s3 not in q:\n",
        "     q.append(s3)\n",
        "    s4=right(s)\n",
        "    if s4 not in visited and s4 not in q:\n",
        "     q.append(s4)\n",
        "    if len(q)>0:\n",
        "     s=q[0]\n",
        "     del q[0]\n",
        "    else:\n",
        "      print(\"not found\")\n",
        "      return\n",
        "def main():\n",
        "  ans=compare(s,g)\n",
        "  print(ans)\n",
        "  new=down(s)\n",
        "  print(\"---------\")\n",
        "  print(new)\n",
        "  print(\"----------\")\n",
        "  search(s,g)\n",
        "main()\n",
        "\n"
      ],
      "metadata": {
        "id": "SI5vzYHCOP7y",
        "outputId": "0415b2ac-a6dc-4037-bc95-bd5d52db8a70",
        "colab": {
          "base_uri": "https://localhost:8080/"
        }
      },
      "execution_count": 37,
      "outputs": [
        {
          "output_type": "stream",
          "name": "stdout",
          "text": [
            "0\n",
            "---------\n",
            "[[1, 2, 3], [8, 6, 4], [7, 0, 5]]\n",
            "----------\n",
            "found\n"
          ]
        }
      ]
    },
    {
      "cell_type": "code",
      "source": [
        "import copy\n",
        "cap=[4,3]\n",
        "def fill_1(s):\n",
        "  global cap\n",
        "  temp=copy.deepcopy(s)\n",
        "  temp[0]=cap[0]\n",
        "  return temp\n",
        "def fill_2(s):\n",
        "  global cap\n",
        "  temp=copy.deepcopy(s)\n",
        "  temp[1]=cap[1]\n",
        "  return temp\n",
        "def empty_1(s):\n",
        "  global cap\n",
        "  temp=copy.deepcopy(s)\n",
        "  temp[0]=0\n",
        "  return temp\n",
        "def empty_2(s):\n",
        "  global cap\n",
        "  temp=copy.deepcopy(s)\n",
        "  temp[1]=0\n",
        "  return temp\n",
        "def transfer_1_to_2(s):\n",
        "  temp=copy.deepcopy(s)\n",
        "  temp[0]=temp[0]-min(cap[1]-temp[1],temp[0])\n",
        "  temp[1]=temp[1]-min(cap[1]-temp[1],temp[0])\n",
        "  return temp\n",
        "def transfer_2_to_1(s):\n",
        "  temp=copy.deepcopy(s)\n",
        "  temp[0]=temp[0]-min(cap[0]-temp[0],temp[1])\n",
        "  temp[1]=temp[1]-min(cap[0]-temp[0],temp[1])\n",
        "  return temp\n",
        "def search(s,g):\n",
        "  q=[]\n",
        "  visited=[]\n",
        "  while(1):\n",
        "    if compare(s,g)==1:\n",
        "      print(\"found\")\n",
        "      return\n",
        "    visited.append(s)\n",
        "    new_state=fill_1(s)\n",
        "    if new_state not in visited and new_state not in q:\n",
        "      q.append(new_state)\n",
        "def compare(s,g):\n",
        "  if s==g:\n",
        "    return 1\n",
        "  else:\n",
        "    return 0\n",
        "def main():\n",
        "  s=[0,0]\n",
        "  g=[2,0]\n",
        "  result = search(s,g)\n",
        "\n",
        "  if result:\n",
        "        print(\"Solution found:\")\n",
        "        print(result)\n",
        "  else:\n",
        "        print(\"No solution found.\")\n",
        "main()"
      ],
      "metadata": {
        "id": "VsFvSorWJhsl",
        "colab": {
          "base_uri": "https://localhost:8080/",
          "height": 321
        },
        "outputId": "92cdcbb7-7cfb-4c93-c7a7-e23d4f270f92"
      },
      "execution_count": 40,
      "outputs": [
        {
          "output_type": "error",
          "ename": "KeyboardInterrupt",
          "evalue": "",
          "traceback": [
            "\u001b[0;31m---------------------------------------------------------------------------\u001b[0m",
            "\u001b[0;31mKeyboardInterrupt\u001b[0m                         Traceback (most recent call last)",
            "\u001b[0;32m<ipython-input-40-469731f1a203>\u001b[0m in \u001b[0;36m<cell line: 0>\u001b[0;34m()\u001b[0m\n\u001b[1;32m     57\u001b[0m   \u001b[0;32melse\u001b[0m\u001b[0;34m:\u001b[0m\u001b[0;34m\u001b[0m\u001b[0;34m\u001b[0m\u001b[0m\n\u001b[1;32m     58\u001b[0m         \u001b[0mprint\u001b[0m\u001b[0;34m(\u001b[0m\u001b[0;34m\"No solution found.\"\u001b[0m\u001b[0;34m)\u001b[0m\u001b[0;34m\u001b[0m\u001b[0;34m\u001b[0m\u001b[0m\n\u001b[0;32m---> 59\u001b[0;31m \u001b[0mmain\u001b[0m\u001b[0;34m(\u001b[0m\u001b[0;34m)\u001b[0m\u001b[0;34m\u001b[0m\u001b[0;34m\u001b[0m\u001b[0m\n\u001b[0m",
            "\u001b[0;32m<ipython-input-40-469731f1a203>\u001b[0m in \u001b[0;36mmain\u001b[0;34m()\u001b[0m\n\u001b[1;32m     50\u001b[0m   \u001b[0ms\u001b[0m\u001b[0;34m=\u001b[0m\u001b[0;34m[\u001b[0m\u001b[0;36m0\u001b[0m\u001b[0;34m,\u001b[0m\u001b[0;36m0\u001b[0m\u001b[0;34m]\u001b[0m\u001b[0;34m\u001b[0m\u001b[0;34m\u001b[0m\u001b[0m\n\u001b[1;32m     51\u001b[0m   \u001b[0mg\u001b[0m\u001b[0;34m=\u001b[0m\u001b[0;34m[\u001b[0m\u001b[0;36m2\u001b[0m\u001b[0;34m,\u001b[0m\u001b[0;36m0\u001b[0m\u001b[0;34m]\u001b[0m\u001b[0;34m\u001b[0m\u001b[0;34m\u001b[0m\u001b[0m\n\u001b[0;32m---> 52\u001b[0;31m   \u001b[0mresult\u001b[0m \u001b[0;34m=\u001b[0m \u001b[0msearch\u001b[0m\u001b[0;34m(\u001b[0m\u001b[0ms\u001b[0m\u001b[0;34m,\u001b[0m\u001b[0mg\u001b[0m\u001b[0;34m)\u001b[0m\u001b[0;34m\u001b[0m\u001b[0;34m\u001b[0m\u001b[0m\n\u001b[0m\u001b[1;32m     53\u001b[0m \u001b[0;34m\u001b[0m\u001b[0m\n\u001b[1;32m     54\u001b[0m   \u001b[0;32mif\u001b[0m \u001b[0mresult\u001b[0m\u001b[0;34m:\u001b[0m\u001b[0;34m\u001b[0m\u001b[0;34m\u001b[0m\u001b[0m\n",
            "\u001b[0;32m<ipython-input-40-469731f1a203>\u001b[0m in \u001b[0;36msearch\u001b[0;34m(s, g)\u001b[0m\n\u001b[1;32m     34\u001b[0m   \u001b[0mq\u001b[0m\u001b[0;34m=\u001b[0m\u001b[0;34m[\u001b[0m\u001b[0;34m]\u001b[0m\u001b[0;34m\u001b[0m\u001b[0;34m\u001b[0m\u001b[0m\n\u001b[1;32m     35\u001b[0m   \u001b[0mvisited\u001b[0m\u001b[0;34m=\u001b[0m\u001b[0;34m[\u001b[0m\u001b[0;34m]\u001b[0m\u001b[0;34m\u001b[0m\u001b[0;34m\u001b[0m\u001b[0m\n\u001b[0;32m---> 36\u001b[0;31m   \u001b[0;32mwhile\u001b[0m\u001b[0;34m(\u001b[0m\u001b[0;36m1\u001b[0m\u001b[0;34m)\u001b[0m\u001b[0;34m:\u001b[0m\u001b[0;34m\u001b[0m\u001b[0;34m\u001b[0m\u001b[0m\n\u001b[0m\u001b[1;32m     37\u001b[0m     \u001b[0;32mif\u001b[0m \u001b[0mcompare\u001b[0m\u001b[0;34m(\u001b[0m\u001b[0ms\u001b[0m\u001b[0;34m,\u001b[0m\u001b[0mg\u001b[0m\u001b[0;34m)\u001b[0m\u001b[0;34m==\u001b[0m\u001b[0;36m1\u001b[0m\u001b[0;34m:\u001b[0m\u001b[0;34m\u001b[0m\u001b[0;34m\u001b[0m\u001b[0m\n\u001b[1;32m     38\u001b[0m       \u001b[0mprint\u001b[0m\u001b[0;34m(\u001b[0m\u001b[0;34m\"found\"\u001b[0m\u001b[0;34m)\u001b[0m\u001b[0;34m\u001b[0m\u001b[0;34m\u001b[0m\u001b[0m\n",
            "\u001b[0;31mKeyboardInterrupt\u001b[0m: "
          ]
        }
      ]
    },
    {
      "cell_type": "code",
      "source": [],
      "metadata": {
        "id": "Xx_hWgrqLekm"
      },
      "execution_count": null,
      "outputs": []
    }
  ],
  "metadata": {
    "colab": {
      "toc_visible": true,
      "provenance": [],
      "include_colab_link": true
    },
    "kernelspec": {
      "display_name": "Python 3",
      "name": "python3"
    }
  },
  "nbformat": 4,
  "nbformat_minor": 0
}