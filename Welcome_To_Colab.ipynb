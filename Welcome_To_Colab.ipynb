{
  "cells": [
    {
      "cell_type": "markdown",
      "metadata": {
        "id": "view-in-github",
        "colab_type": "text"
      },
      "source": [
        "<a href=\"https://colab.research.google.com/github/abhyagarg22/python-ai/blob/main/Welcome_To_Colab.ipynb\" target=\"_parent\"><img src=\"https://colab.research.google.com/assets/colab-badge.svg\" alt=\"Open In Colab\"/></a>"
      ]
    },
    {
      "cell_type": "code",
      "source": [
        "import copy\n",
        "q=[]\n",
        "visited=[]\n",
        "def movegen(s):\n",
        "  print(s)\n",
        "  list_of_children=[]\n",
        "  for i in range(len(s[0])):\n",
        "    if len(s[0][i])>0:\n",
        "       temp=copy.deepcopy(s[0])\n",
        "       top=temp[i][-1]\n",
        "       del temp[i][-1]\n",
        "       for j in range(len(s[0])):\n",
        "         if i !=j:\n",
        "              temp1=copy.deepcopy(temp)\n",
        "              temp1[j].append(top)\n",
        "              temp1.sort()\n",
        "              temp1=[temp1,s[1]+1]\n",
        "              list_of_children.append(temp1)\n",
        "              print(temp1)\n",
        "  return(list_of_children)\n",
        "\n",
        "def search(g):\n",
        "  global q\n",
        "  global visited\n",
        "  while(len(q)>0):\n",
        "     curr_state=q[0]\n",
        "     if curr_state[0]==g:\n",
        "       print(\"found\")\n",
        "       return\n",
        "     visited.append(curr_state[0])\n",
        "     list_of_children=movegen (curr_state)\n",
        "     for child in list_of_children:\n",
        "         if child[0] not in visited and child not in q:\n",
        "            q.append(child)\n",
        "     del q[0]\n",
        "     print(\"not found\")\n",
        "def main():\n",
        "   s=[[['A'], ['B','C'],[]],0]\n",
        "   g=[[], [], ['A', 'B','C']]\n",
        "   global q\n",
        "   g.sort()\n",
        "   s[0].sort()\n",
        "   q.append(s)\n",
        "   search(g)\n",
        "main()"
      ],
      "metadata": {
        "id": "bC_iUz_z0ZHr",
        "outputId": "4bd5906e-ea2e-4db6-c141-e06d34d54dbb",
        "colab": {
          "base_uri": "https://localhost:8080/"
        }
      },
      "execution_count": 13,
      "outputs": [
        {
          "output_type": "stream",
          "name": "stdout",
          "text": [
            "[[[], ['A'], ['B', 'C']], 0]\n",
            "[[[], ['A'], ['B', 'C']], 1]\n",
            "[[[], [], ['B', 'C', 'A']], 1]\n",
            "[[['A'], ['B'], ['C']], 1]\n",
            "[[[], ['A', 'C'], ['B']], 1]\n",
            "not found\n",
            "[[[], [], ['B', 'C', 'A']], 1]\n",
            "[[[], ['A'], ['B', 'C']], 2]\n",
            "[[[], ['A'], ['B', 'C']], 2]\n",
            "not found\n",
            "[[['A'], ['B'], ['C']], 1]\n",
            "[[[], ['B', 'A'], ['C']], 2]\n",
            "[[[], ['B'], ['C', 'A']], 2]\n",
            "[[[], ['A', 'B'], ['C']], 2]\n",
            "[[[], ['A'], ['C', 'B']], 2]\n",
            "[[[], ['A', 'C'], ['B']], 2]\n",
            "[[[], ['A'], ['B', 'C']], 2]\n",
            "not found\n",
            "[[[], ['A', 'C'], ['B']], 1]\n",
            "[[['A'], ['B'], ['C']], 2]\n",
            "[[[], ['A'], ['B', 'C']], 2]\n",
            "[[[], ['A', 'C'], ['B']], 2]\n",
            "[[[], [], ['A', 'C', 'B']], 2]\n",
            "not found\n",
            "[[[], ['B', 'A'], ['C']], 2]\n",
            "[[['A'], ['B'], ['C']], 3]\n",
            "[[[], ['B'], ['C', 'A']], 3]\n",
            "[[[], ['B', 'A'], ['C']], 3]\n",
            "[[[], [], ['B', 'A', 'C']], 3]\n",
            "not found\n",
            "[[[], ['B'], ['C', 'A']], 2]\n",
            "[[[], ['B'], ['C', 'A']], 3]\n",
            "[[[], [], ['C', 'A', 'B']], 3]\n",
            "[[['A'], ['B'], ['C']], 3]\n",
            "[[[], ['B', 'A'], ['C']], 3]\n",
            "not found\n",
            "[[[], ['A', 'B'], ['C']], 2]\n",
            "[[['A'], ['B'], ['C']], 3]\n",
            "[[[], ['A'], ['C', 'B']], 3]\n",
            "[[[], ['A', 'B'], ['C']], 3]\n",
            "[[[], [], ['A', 'B', 'C']], 3]\n",
            "not found\n",
            "[[[], ['A'], ['C', 'B']], 2]\n",
            "[[[], ['A'], ['C', 'B']], 3]\n",
            "[[[], [], ['C', 'B', 'A']], 3]\n",
            "[[['A'], ['B'], ['C']], 3]\n",
            "[[[], ['A', 'B'], ['C']], 3]\n",
            "not found\n",
            "[[[], ['A', 'C'], ['B']], 2]\n",
            "[[['A'], ['B'], ['C']], 3]\n",
            "[[[], ['A'], ['B', 'C']], 3]\n",
            "[[[], ['A', 'C'], ['B']], 3]\n",
            "[[[], [], ['A', 'C', 'B']], 3]\n",
            "not found\n",
            "[[[], [], ['A', 'C', 'B']], 2]\n",
            "[[[], ['A', 'C'], ['B']], 3]\n",
            "[[[], ['A', 'C'], ['B']], 3]\n",
            "not found\n",
            "[[[], ['B'], ['C', 'A']], 3]\n",
            "[[[], ['B'], ['C', 'A']], 4]\n",
            "[[[], [], ['C', 'A', 'B']], 4]\n",
            "[[['A'], ['B'], ['C']], 4]\n",
            "[[[], ['B', 'A'], ['C']], 4]\n",
            "not found\n",
            "[[[], [], ['B', 'A', 'C']], 3]\n",
            "[[[], ['B', 'A'], ['C']], 4]\n",
            "[[[], ['B', 'A'], ['C']], 4]\n",
            "not found\n",
            "[[[], [], ['C', 'A', 'B']], 3]\n",
            "[[[], ['B'], ['C', 'A']], 4]\n",
            "[[[], ['B'], ['C', 'A']], 4]\n",
            "not found\n",
            "[[[], ['A'], ['C', 'B']], 3]\n",
            "[[[], ['A'], ['C', 'B']], 4]\n",
            "[[[], [], ['C', 'B', 'A']], 4]\n",
            "[[['A'], ['B'], ['C']], 4]\n",
            "[[[], ['A', 'B'], ['C']], 4]\n",
            "not found\n",
            "found\n"
          ]
        }
      ]
    },
    {
      "cell_type": "code",
      "source": [
        "from itertools import permutations\n",
        "graph = [\n",
        "    [0, 10, 15, 20],\n",
        "    [10, 0, 35, 25],\n",
        "    [15, 35, 0, 30],\n",
        "    [20, 25, 30, 0]\n",
        "]\n",
        "n = len(graph)\n",
        "start = int(input(\"Enter the starting node (1-4): \")) - 1\n",
        "nodes = [i for i in range(n) if i != start]\n",
        "min_cost = float('inf')\n",
        "best_path = None\n",
        "for perm in permutations(nodes):\n",
        "    current_cost = 0\n",
        "    k = start\n",
        "    for j in perm:\n",
        "        current_cost += graph[k][j]\n",
        "        k = j\n",
        "    current_cost += graph[k][start]\n",
        "    if current_cost < min_cost:\n",
        "        min_cost = current_cost\n",
        "        best_path = (start, *perm, start)\n",
        "print(f\"Optimal Path: {' -> '.join(str(node+1) for node in best_path)}\")\n",
        "print(f\"Minimum Cost: {min_cost}\")\n"
      ],
      "metadata": {
        "id": "y7kKnDOz39LX",
        "outputId": "b3d45131-1569-408f-f6d1-f05d366e8751",
        "colab": {
          "base_uri": "https://localhost:8080/"
        }
      },
      "execution_count": null,
      "outputs": [
        {
          "output_type": "stream",
          "name": "stdout",
          "text": [
            "Enter the starting node (1-4): 4\n",
            "Optimal Path: 4 -> 2 -> 1 -> 3 -> 4\n",
            "Minimum Cost: 80\n"
          ]
        }
      ]
    },
    {
      "cell_type": "code",
      "source": [
        "import copy\n",
        "q = []\n",
        "visited = []\n",
        "def movegen(s):\n",
        "    print(s)\n",
        "    list_of_children = []\n",
        "    for i in range(len(s[0])):\n",
        "        if len(s[i]) > 0:\n",
        "            temp = copy.deepcopy(s[0])\n",
        "            top = temp[i][-1]\n",
        "            del temp[i][-1]\n",
        "            for j in range(len(s[0])):\n",
        "                if i != j:\n",
        "                    temp1 = copy.deepcopy(temp)\n",
        "                    temp1[j].append(top)\n",
        "                    temp1.sort()\n",
        "                    temp1=[temp1,s[1]+1]\n",
        "                    list_of_children.append(temp1)\n",
        "                    print(temp1)\n",
        "    return list_of_children\n",
        "\n",
        "def search(g,d):\n",
        "    global q\n",
        "    global visited\n",
        "\n",
        "    while len(q) > 0:\n",
        "        print(d)\n",
        "        curr_depth=0\n",
        "        curr_state = q[-1]\n",
        "        if curr_state[0] == g:\n",
        "            print(\"found\")\n",
        "            return\n",
        "\n",
        "        visited.append(curr_state[0])\n",
        "        list_of_children = movegen(curr_state)\n",
        "        for child in list_of_children:\n",
        "            if child[0] not in visited and child not in q:\n",
        "              if(curr_depth<d):\n",
        "                q.append(child)\n",
        "                curr_depth+=1\n",
        "    print(\"not found\")\n",
        "    print(visited)\n",
        "def main():\n",
        "    s = [[['A'], ['B', 'C'], []],0]\n",
        "    g = [[], [], ['A', 'B', 'C']]\n",
        "    global q\n",
        "    g.sort()\n",
        "    s[0].sort()\n",
        "    d=0\n",
        "    while(d<10):\n",
        "       q.append(s)\n",
        "       search(g,d)\n",
        "       d+=1\n",
        "main()\n"
      ],
      "metadata": {
        "id": "SJ9TDZtDEbi4",
        "outputId": "cfeff705-7858-402c-ac60-c3189c31c205",
        "colab": {
          "base_uri": "https://localhost:8080/",
          "height": 356
        }
      },
      "execution_count": 27,
      "outputs": [
        {
          "output_type": "stream",
          "name": "stdout",
          "text": [
            "0\n",
            "[[[], ['A'], ['B', 'C']], 0]\n"
          ]
        },
        {
          "output_type": "error",
          "ename": "IndexError",
          "evalue": "list index out of range",
          "traceback": [
            "\u001b[0;31m---------------------------------------------------------------------------\u001b[0m",
            "\u001b[0;31mIndexError\u001b[0m                                Traceback (most recent call last)",
            "\u001b[0;32m<ipython-input-27-f899d0c1b76a>\u001b[0m in \u001b[0;36m<cell line: 0>\u001b[0;34m()\u001b[0m\n\u001b[1;32m     52\u001b[0m        \u001b[0msearch\u001b[0m\u001b[0;34m(\u001b[0m\u001b[0mg\u001b[0m\u001b[0;34m,\u001b[0m\u001b[0md\u001b[0m\u001b[0;34m)\u001b[0m\u001b[0;34m\u001b[0m\u001b[0;34m\u001b[0m\u001b[0m\n\u001b[1;32m     53\u001b[0m        \u001b[0md\u001b[0m\u001b[0;34m+=\u001b[0m\u001b[0;36m1\u001b[0m\u001b[0;34m\u001b[0m\u001b[0;34m\u001b[0m\u001b[0m\n\u001b[0;32m---> 54\u001b[0;31m \u001b[0mmain\u001b[0m\u001b[0;34m(\u001b[0m\u001b[0;34m)\u001b[0m\u001b[0;34m\u001b[0m\u001b[0;34m\u001b[0m\u001b[0m\n\u001b[0m",
            "\u001b[0;32m<ipython-input-27-f899d0c1b76a>\u001b[0m in \u001b[0;36mmain\u001b[0;34m()\u001b[0m\n\u001b[1;32m     50\u001b[0m     \u001b[0;32mwhile\u001b[0m\u001b[0;34m(\u001b[0m\u001b[0md\u001b[0m\u001b[0;34m<\u001b[0m\u001b[0;36m10\u001b[0m\u001b[0;34m)\u001b[0m\u001b[0;34m:\u001b[0m\u001b[0;34m\u001b[0m\u001b[0;34m\u001b[0m\u001b[0m\n\u001b[1;32m     51\u001b[0m        \u001b[0mq\u001b[0m\u001b[0;34m.\u001b[0m\u001b[0mappend\u001b[0m\u001b[0;34m(\u001b[0m\u001b[0ms\u001b[0m\u001b[0;34m)\u001b[0m\u001b[0;34m\u001b[0m\u001b[0;34m\u001b[0m\u001b[0m\n\u001b[0;32m---> 52\u001b[0;31m        \u001b[0msearch\u001b[0m\u001b[0;34m(\u001b[0m\u001b[0mg\u001b[0m\u001b[0;34m,\u001b[0m\u001b[0md\u001b[0m\u001b[0;34m)\u001b[0m\u001b[0;34m\u001b[0m\u001b[0;34m\u001b[0m\u001b[0m\n\u001b[0m\u001b[1;32m     53\u001b[0m        \u001b[0md\u001b[0m\u001b[0;34m+=\u001b[0m\u001b[0;36m1\u001b[0m\u001b[0;34m\u001b[0m\u001b[0;34m\u001b[0m\u001b[0m\n\u001b[1;32m     54\u001b[0m \u001b[0mmain\u001b[0m\u001b[0;34m(\u001b[0m\u001b[0;34m)\u001b[0m\u001b[0;34m\u001b[0m\u001b[0;34m\u001b[0m\u001b[0m\n",
            "\u001b[0;32m<ipython-input-27-f899d0c1b76a>\u001b[0m in \u001b[0;36msearch\u001b[0;34m(g, d)\u001b[0m\n\u001b[1;32m     33\u001b[0m \u001b[0;34m\u001b[0m\u001b[0m\n\u001b[1;32m     34\u001b[0m         \u001b[0mvisited\u001b[0m\u001b[0;34m.\u001b[0m\u001b[0mappend\u001b[0m\u001b[0;34m(\u001b[0m\u001b[0mcurr_state\u001b[0m\u001b[0;34m[\u001b[0m\u001b[0;36m0\u001b[0m\u001b[0;34m]\u001b[0m\u001b[0;34m)\u001b[0m\u001b[0;34m\u001b[0m\u001b[0;34m\u001b[0m\u001b[0m\n\u001b[0;32m---> 35\u001b[0;31m         \u001b[0mlist_of_children\u001b[0m \u001b[0;34m=\u001b[0m \u001b[0mmovegen\u001b[0m\u001b[0;34m(\u001b[0m\u001b[0mcurr_state\u001b[0m\u001b[0;34m)\u001b[0m\u001b[0;34m\u001b[0m\u001b[0;34m\u001b[0m\u001b[0m\n\u001b[0m\u001b[1;32m     36\u001b[0m         \u001b[0;32mfor\u001b[0m \u001b[0mchild\u001b[0m \u001b[0;32min\u001b[0m \u001b[0mlist_of_children\u001b[0m\u001b[0;34m:\u001b[0m\u001b[0;34m\u001b[0m\u001b[0;34m\u001b[0m\u001b[0m\n\u001b[1;32m     37\u001b[0m             \u001b[0;32mif\u001b[0m \u001b[0mchild\u001b[0m\u001b[0;34m[\u001b[0m\u001b[0;36m0\u001b[0m\u001b[0;34m]\u001b[0m \u001b[0;32mnot\u001b[0m \u001b[0;32min\u001b[0m \u001b[0mvisited\u001b[0m \u001b[0;32mand\u001b[0m \u001b[0mchild\u001b[0m \u001b[0;32mnot\u001b[0m \u001b[0;32min\u001b[0m \u001b[0mq\u001b[0m\u001b[0;34m:\u001b[0m\u001b[0;34m\u001b[0m\u001b[0;34m\u001b[0m\u001b[0m\n",
            "\u001b[0;32m<ipython-input-27-f899d0c1b76a>\u001b[0m in \u001b[0;36mmovegen\u001b[0;34m(s)\u001b[0m\n\u001b[1;32m      8\u001b[0m         \u001b[0;32mif\u001b[0m \u001b[0mlen\u001b[0m\u001b[0;34m(\u001b[0m\u001b[0ms\u001b[0m\u001b[0;34m[\u001b[0m\u001b[0mi\u001b[0m\u001b[0;34m]\u001b[0m\u001b[0;34m)\u001b[0m \u001b[0;34m>\u001b[0m \u001b[0;36m0\u001b[0m\u001b[0;34m:\u001b[0m\u001b[0;34m\u001b[0m\u001b[0;34m\u001b[0m\u001b[0m\n\u001b[1;32m      9\u001b[0m             \u001b[0mtemp\u001b[0m \u001b[0;34m=\u001b[0m \u001b[0mcopy\u001b[0m\u001b[0;34m.\u001b[0m\u001b[0mdeepcopy\u001b[0m\u001b[0;34m(\u001b[0m\u001b[0ms\u001b[0m\u001b[0;34m[\u001b[0m\u001b[0;36m0\u001b[0m\u001b[0;34m]\u001b[0m\u001b[0;34m)\u001b[0m\u001b[0;34m\u001b[0m\u001b[0;34m\u001b[0m\u001b[0m\n\u001b[0;32m---> 10\u001b[0;31m             \u001b[0mtop\u001b[0m \u001b[0;34m=\u001b[0m \u001b[0mtemp\u001b[0m\u001b[0;34m[\u001b[0m\u001b[0mi\u001b[0m\u001b[0;34m]\u001b[0m\u001b[0;34m[\u001b[0m\u001b[0;34m-\u001b[0m\u001b[0;36m1\u001b[0m\u001b[0;34m]\u001b[0m\u001b[0;34m\u001b[0m\u001b[0;34m\u001b[0m\u001b[0m\n\u001b[0m\u001b[1;32m     11\u001b[0m             \u001b[0;32mdel\u001b[0m \u001b[0mtemp\u001b[0m\u001b[0;34m[\u001b[0m\u001b[0mi\u001b[0m\u001b[0;34m]\u001b[0m\u001b[0;34m[\u001b[0m\u001b[0;34m-\u001b[0m\u001b[0;36m1\u001b[0m\u001b[0;34m]\u001b[0m\u001b[0;34m\u001b[0m\u001b[0;34m\u001b[0m\u001b[0m\n\u001b[1;32m     12\u001b[0m             \u001b[0;32mfor\u001b[0m \u001b[0mj\u001b[0m \u001b[0;32min\u001b[0m \u001b[0mrange\u001b[0m\u001b[0;34m(\u001b[0m\u001b[0mlen\u001b[0m\u001b[0;34m(\u001b[0m\u001b[0ms\u001b[0m\u001b[0;34m[\u001b[0m\u001b[0;36m0\u001b[0m\u001b[0;34m]\u001b[0m\u001b[0;34m)\u001b[0m\u001b[0;34m)\u001b[0m\u001b[0;34m:\u001b[0m\u001b[0;34m\u001b[0m\u001b[0;34m\u001b[0m\u001b[0m\n",
            "\u001b[0;31mIndexError\u001b[0m: list index out of range"
          ]
        }
      ]
    },
    {
      "cell_type": "code",
      "source": [],
      "metadata": {
        "id": "ttVNUC97Oou6"
      },
      "execution_count": null,
      "outputs": []
    }
  ],
  "metadata": {
    "colab": {
      "name": "Welcome To Colab",
      "provenance": [],
      "include_colab_link": true
    },
    "kernelspec": {
      "display_name": "Python 3",
      "name": "python3"
    }
  },
  "nbformat": 4,
  "nbformat_minor": 0
}