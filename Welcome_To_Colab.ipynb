{
  "cells": [
    {
      "cell_type": "markdown",
      "metadata": {
        "id": "view-in-github",
        "colab_type": "text"
      },
      "source": [
        "<a href=\"https://colab.research.google.com/github/abhyagarg22/python-ai/blob/main/Welcome_To_Colab.ipynb\" target=\"_parent\"><img src=\"https://colab.research.google.com/assets/colab-badge.svg\" alt=\"Open In Colab\"/></a>"
      ]
    },
    {
      "cell_type": "code",
      "source": [
        "a=[[1,2,3],\n",
        "   [4,5,6],\n",
        "   [7,8,9]]\n",
        "print(len(a))\n",
        "print(a[2])"
      ],
      "metadata": {
        "id": "37HN8yNFEAWp",
        "outputId": "5c1f5b6e-2330-4419-b6ed-bab55e2c611e",
        "colab": {
          "base_uri": "https://localhost:8080/"
        }
      },
      "execution_count": 9,
      "outputs": [
        {
          "output_type": "stream",
          "name": "stdout",
          "text": [
            "3\n",
            "[7, 8, 9]\n"
          ]
        }
      ]
    },
    {
      "cell_type": "code",
      "source": [
        "def add(a,b):\n",
        "  res=a+b\n",
        "  return (res)\n",
        "#num1=int(input())\n",
        "#num2=int(input())\n",
        "ans =add(2,3)\n",
        "print(ans)"
      ],
      "metadata": {
        "id": "VeKq1wBNE74i",
        "outputId": "48341c1b-3558-4977-a7c8-60fb3accaa0b",
        "colab": {
          "base_uri": "https://localhost:8080/"
        }
      },
      "execution_count": 12,
      "outputs": [
        {
          "output_type": "stream",
          "name": "stdout",
          "text": [
            "5\n"
          ]
        }
      ]
    },
    {
      "cell_type": "code",
      "source": [
        "a=[[1,2,3],\n",
        "   [4,5,6],\n",
        "   [7,8,9]]\n",
        "def find_pos(b):\n",
        "  for i in range(len(b)):\n",
        "    for j in range(len(b[i])):\n",
        "      if b[i][j]==5:\n",
        "        return(i,j)\n",
        "ans =find_pos(a)\n",
        "print(ans)"
      ],
      "metadata": {
        "id": "5PqyUwTuGmER",
        "outputId": "5156013a-385e-483d-96c0-7c370022e165",
        "colab": {
          "base_uri": "https://localhost:8080/"
        }
      },
      "execution_count": 20,
      "outputs": [
        {
          "output_type": "stream",
          "name": "stdout",
          "text": [
            "(1, 1)\n"
          ]
        }
      ]
    },
    {
      "cell_type": "code",
      "source": [
        "a=[1,2,3]\n",
        "a.append(4)\n",
        "print(a)"
      ],
      "metadata": {
        "id": "7PmTpf0hIzRh",
        "outputId": "870aaf16-e68f-4158-b803-d937ed2cf9d4",
        "colab": {
          "base_uri": "https://localhost:8080/"
        }
      },
      "execution_count": 25,
      "outputs": [
        {
          "output_type": "stream",
          "name": "stdout",
          "text": [
            "[1, 2, 3, 4]\n"
          ]
        }
      ]
    },
    {
      "cell_type": "code",
      "source": [
        "def list_even(l):\n",
        "  ls=[]\n",
        "  for i in range(len(l)):\n",
        "    for j in range(len(l[i])):\n",
        "      if l[i][j]%2==0:\n",
        "        ls.append(l[i][j])\n",
        "  return (ls)\n",
        "a=[[1,2,3],\n",
        "   [4,5,6],\n",
        "   [7,8,9]]\n",
        "ans=list_even(a)\n",
        "print(ans)"
      ],
      "metadata": {
        "id": "Rl_iQk6PJmPB",
        "outputId": "eac03591-9da7-43d9-f74d-182814139612",
        "colab": {
          "base_uri": "https://localhost:8080/"
        }
      },
      "execution_count": 30,
      "outputs": [
        {
          "output_type": "stream",
          "name": "stdout",
          "text": [
            "[2, 4, 6, 8]\n"
          ]
        }
      ]
    },
    {
      "cell_type": "code",
      "source": [
        "s = [[1,2,3],\n",
        "     [8,0,4],\n",
        "     [7,6,5]]\n",
        "g = [[2,8,1],\n",
        "     [0,4,3],\n",
        "     [7,6,5]]\n",
        "def find_pos(s):\n",
        "  for i in range(len(s)):\n",
        "    for j in range(len(s[0])):\n",
        "      if s[i][j]==0:\n",
        "        return[i,j]\n",
        "def up(s):\n",
        "  pos =find_pos(s)\n",
        "  row=pos[0]\n",
        "  col=pos[1]\n",
        "  if row>0:\n",
        "    s[row][col]=s[row-1][col]\n",
        "    s[row-1][col]=0\n",
        "  return (s)\n",
        "def compare(s,g):\n",
        "  for i in range(len(s)):\n",
        "    for j in range(len(s[0])):\n",
        "      if s[i][j]!=g[i][j]:\n",
        "        return 0\n",
        "  return(1)\n",
        "ans=compare(s,g)\n",
        "print(s)\n",
        "new=up(s)\n",
        "print(\"-----------\")\n",
        "print(new)"
      ],
      "metadata": {
        "id": "SI5vzYHCOP7y",
        "outputId": "6ba3bb4d-7240-4d2e-aca9-34501e813c0d",
        "colab": {
          "base_uri": "https://localhost:8080/"
        }
      },
      "execution_count": 40,
      "outputs": [
        {
          "output_type": "stream",
          "name": "stdout",
          "text": [
            "[[1, 2, 3], [8, 0, 4], [7, 6, 5]]\n",
            "-----------\n",
            "[[1, 0, 3], [8, 2, 4], [7, 6, 5]]\n"
          ]
        }
      ]
    }
  ],
  "metadata": {
    "colab": {
      "name": "Welcome To Colab",
      "toc_visible": true,
      "provenance": [],
      "include_colab_link": true
    },
    "kernelspec": {
      "display_name": "Python 3",
      "name": "python3"
    }
  },
  "nbformat": 4,
  "nbformat_minor": 0
}